{
 "cells": [
  {
   "cell_type": "markdown",
   "id": "2f78b47e-a9aa-4403-b3cf-998da104bbaf",
   "metadata": {},
   "source": [
    "## Amaç"
   ]
  },
  {
   "cell_type": "markdown",
   "id": "8f3ac038-1cb3-45b2-b0f4-9a8b46a35e43",
   "metadata": {},
   "source": [
    "* Mutluluk seviyelerini belirlemek için 6 faktör -ekonomik üretim, sosyal destek, yaşam beklentisi, özgürlük, yolsuzluğun olmaması ve cömertlik - göz önüne alınmaktadır. Amaç günümüz dünyasında daha mutlu toplumlar oluşmasına katkı sağlamak için aşağıdaki gibi sorulara cevaplar arayabilmektir.\n",
    "\n",
    "* Hangi ülkeler veya bölgeler genel mutlulukta ve mutluluğa katkıda bulunan altı faktörün her birinde en yüksek sırada yer alıyor?\n",
    "* 2015-2016 ile 2016-2017 raporları arasında ülke sıralamaları veya puanları nasıl değişti?\n",
    "Herhangi bir ülke mutlulukta önemli bir artış veya azalma yaşadı mı?\n"
   ]
  },
  {
   "cell_type": "markdown",
   "id": "86557eaa-fe28-478b-a868-9de8b0002c73",
   "metadata": {},
   "source": [
    "### Veriyi Yükleme"
   ]
  },
  {
   "cell_type": "code",
   "execution_count": 37,
   "id": "03468c4c-b0e6-4ce6-87d2-da77c290349f",
   "metadata": {},
   "outputs": [],
   "source": [
    "import warnings\n",
    "warnings.simplefilter(action='ignore', category=FutureWarning)\n",
    "import pandas as pd\n",
    "import numpy as np\n",
    "import matplotlib as plt\n",
    "import seaborn as sns"
   ]
  },
  {
   "cell_type": "code",
   "execution_count": 2,
   "id": "f03ccc9f-307a-4bd6-a83a-32f39a006952",
   "metadata": {},
   "outputs": [],
   "source": [
    "df_2015 = pd.read_csv('data/2015.csv')\n",
    "df_2016 = pd.read_csv('data/2016.csv')\n",
    "df_2017 = pd.read_csv('data/2017.csv')"
   ]
  },
  {
   "cell_type": "markdown",
   "id": "d4dc9893-a952-4a97-85da-9bcd0273a99f",
   "metadata": {},
   "source": [
    "### İlk Bakış"
   ]
  },
  {
   "cell_type": "code",
   "execution_count": 3,
   "id": "68db1332-6bb2-4b2f-986c-0e5584bac9b8",
   "metadata": {},
   "outputs": [
    {
     "data": {
      "text/html": [
       "<div>\n",
       "<style scoped>\n",
       "    .dataframe tbody tr th:only-of-type {\n",
       "        vertical-align: middle;\n",
       "    }\n",
       "\n",
       "    .dataframe tbody tr th {\n",
       "        vertical-align: top;\n",
       "    }\n",
       "\n",
       "    .dataframe thead th {\n",
       "        text-align: right;\n",
       "    }\n",
       "</style>\n",
       "<table border=\"1\" class=\"dataframe\">\n",
       "  <thead>\n",
       "    <tr style=\"text-align: right;\">\n",
       "      <th></th>\n",
       "      <th>Country</th>\n",
       "      <th>Region</th>\n",
       "      <th>Happiness Rank</th>\n",
       "      <th>Happiness Score</th>\n",
       "      <th>Standard Error</th>\n",
       "      <th>Economy (GDP per Capita)</th>\n",
       "      <th>Family</th>\n",
       "      <th>Health (Life Expectancy)</th>\n",
       "      <th>Freedom</th>\n",
       "      <th>Trust (Government Corruption)</th>\n",
       "      <th>Generosity</th>\n",
       "      <th>Dystopia Residual</th>\n",
       "    </tr>\n",
       "  </thead>\n",
       "  <tbody>\n",
       "    <tr>\n",
       "      <th>0</th>\n",
       "      <td>Switzerland</td>\n",
       "      <td>Western Europe</td>\n",
       "      <td>1</td>\n",
       "      <td>7.587</td>\n",
       "      <td>0.03411</td>\n",
       "      <td>1.39651</td>\n",
       "      <td>1.34951</td>\n",
       "      <td>0.94143</td>\n",
       "      <td>0.66557</td>\n",
       "      <td>0.41978</td>\n",
       "      <td>0.29678</td>\n",
       "      <td>2.51738</td>\n",
       "    </tr>\n",
       "    <tr>\n",
       "      <th>1</th>\n",
       "      <td>Iceland</td>\n",
       "      <td>Western Europe</td>\n",
       "      <td>2</td>\n",
       "      <td>7.561</td>\n",
       "      <td>0.04884</td>\n",
       "      <td>1.30232</td>\n",
       "      <td>1.40223</td>\n",
       "      <td>0.94784</td>\n",
       "      <td>0.62877</td>\n",
       "      <td>0.14145</td>\n",
       "      <td>0.43630</td>\n",
       "      <td>2.70201</td>\n",
       "    </tr>\n",
       "    <tr>\n",
       "      <th>2</th>\n",
       "      <td>Denmark</td>\n",
       "      <td>Western Europe</td>\n",
       "      <td>3</td>\n",
       "      <td>7.527</td>\n",
       "      <td>0.03328</td>\n",
       "      <td>1.32548</td>\n",
       "      <td>1.36058</td>\n",
       "      <td>0.87464</td>\n",
       "      <td>0.64938</td>\n",
       "      <td>0.48357</td>\n",
       "      <td>0.34139</td>\n",
       "      <td>2.49204</td>\n",
       "    </tr>\n",
       "    <tr>\n",
       "      <th>3</th>\n",
       "      <td>Norway</td>\n",
       "      <td>Western Europe</td>\n",
       "      <td>4</td>\n",
       "      <td>7.522</td>\n",
       "      <td>0.03880</td>\n",
       "      <td>1.45900</td>\n",
       "      <td>1.33095</td>\n",
       "      <td>0.88521</td>\n",
       "      <td>0.66973</td>\n",
       "      <td>0.36503</td>\n",
       "      <td>0.34699</td>\n",
       "      <td>2.46531</td>\n",
       "    </tr>\n",
       "    <tr>\n",
       "      <th>4</th>\n",
       "      <td>Canada</td>\n",
       "      <td>North America</td>\n",
       "      <td>5</td>\n",
       "      <td>7.427</td>\n",
       "      <td>0.03553</td>\n",
       "      <td>1.32629</td>\n",
       "      <td>1.32261</td>\n",
       "      <td>0.90563</td>\n",
       "      <td>0.63297</td>\n",
       "      <td>0.32957</td>\n",
       "      <td>0.45811</td>\n",
       "      <td>2.45176</td>\n",
       "    </tr>\n",
       "    <tr>\n",
       "      <th>...</th>\n",
       "      <td>...</td>\n",
       "      <td>...</td>\n",
       "      <td>...</td>\n",
       "      <td>...</td>\n",
       "      <td>...</td>\n",
       "      <td>...</td>\n",
       "      <td>...</td>\n",
       "      <td>...</td>\n",
       "      <td>...</td>\n",
       "      <td>...</td>\n",
       "      <td>...</td>\n",
       "      <td>...</td>\n",
       "    </tr>\n",
       "    <tr>\n",
       "      <th>153</th>\n",
       "      <td>Rwanda</td>\n",
       "      <td>Sub-Saharan Africa</td>\n",
       "      <td>154</td>\n",
       "      <td>3.465</td>\n",
       "      <td>0.03464</td>\n",
       "      <td>0.22208</td>\n",
       "      <td>0.77370</td>\n",
       "      <td>0.42864</td>\n",
       "      <td>0.59201</td>\n",
       "      <td>0.55191</td>\n",
       "      <td>0.22628</td>\n",
       "      <td>0.67042</td>\n",
       "    </tr>\n",
       "    <tr>\n",
       "      <th>154</th>\n",
       "      <td>Benin</td>\n",
       "      <td>Sub-Saharan Africa</td>\n",
       "      <td>155</td>\n",
       "      <td>3.340</td>\n",
       "      <td>0.03656</td>\n",
       "      <td>0.28665</td>\n",
       "      <td>0.35386</td>\n",
       "      <td>0.31910</td>\n",
       "      <td>0.48450</td>\n",
       "      <td>0.08010</td>\n",
       "      <td>0.18260</td>\n",
       "      <td>1.63328</td>\n",
       "    </tr>\n",
       "    <tr>\n",
       "      <th>155</th>\n",
       "      <td>Syria</td>\n",
       "      <td>Middle East and Northern Africa</td>\n",
       "      <td>156</td>\n",
       "      <td>3.006</td>\n",
       "      <td>0.05015</td>\n",
       "      <td>0.66320</td>\n",
       "      <td>0.47489</td>\n",
       "      <td>0.72193</td>\n",
       "      <td>0.15684</td>\n",
       "      <td>0.18906</td>\n",
       "      <td>0.47179</td>\n",
       "      <td>0.32858</td>\n",
       "    </tr>\n",
       "    <tr>\n",
       "      <th>156</th>\n",
       "      <td>Burundi</td>\n",
       "      <td>Sub-Saharan Africa</td>\n",
       "      <td>157</td>\n",
       "      <td>2.905</td>\n",
       "      <td>0.08658</td>\n",
       "      <td>0.01530</td>\n",
       "      <td>0.41587</td>\n",
       "      <td>0.22396</td>\n",
       "      <td>0.11850</td>\n",
       "      <td>0.10062</td>\n",
       "      <td>0.19727</td>\n",
       "      <td>1.83302</td>\n",
       "    </tr>\n",
       "    <tr>\n",
       "      <th>157</th>\n",
       "      <td>Togo</td>\n",
       "      <td>Sub-Saharan Africa</td>\n",
       "      <td>158</td>\n",
       "      <td>2.839</td>\n",
       "      <td>0.06727</td>\n",
       "      <td>0.20868</td>\n",
       "      <td>0.13995</td>\n",
       "      <td>0.28443</td>\n",
       "      <td>0.36453</td>\n",
       "      <td>0.10731</td>\n",
       "      <td>0.16681</td>\n",
       "      <td>1.56726</td>\n",
       "    </tr>\n",
       "  </tbody>\n",
       "</table>\n",
       "<p>158 rows × 12 columns</p>\n",
       "</div>"
      ],
      "text/plain": [
       "         Country                           Region  Happiness Rank  \\\n",
       "0    Switzerland                   Western Europe               1   \n",
       "1        Iceland                   Western Europe               2   \n",
       "2        Denmark                   Western Europe               3   \n",
       "3         Norway                   Western Europe               4   \n",
       "4         Canada                    North America               5   \n",
       "..           ...                              ...             ...   \n",
       "153       Rwanda               Sub-Saharan Africa             154   \n",
       "154        Benin               Sub-Saharan Africa             155   \n",
       "155        Syria  Middle East and Northern Africa             156   \n",
       "156      Burundi               Sub-Saharan Africa             157   \n",
       "157         Togo               Sub-Saharan Africa             158   \n",
       "\n",
       "     Happiness Score  Standard Error  Economy (GDP per Capita)   Family  \\\n",
       "0              7.587         0.03411                   1.39651  1.34951   \n",
       "1              7.561         0.04884                   1.30232  1.40223   \n",
       "2              7.527         0.03328                   1.32548  1.36058   \n",
       "3              7.522         0.03880                   1.45900  1.33095   \n",
       "4              7.427         0.03553                   1.32629  1.32261   \n",
       "..               ...             ...                       ...      ...   \n",
       "153            3.465         0.03464                   0.22208  0.77370   \n",
       "154            3.340         0.03656                   0.28665  0.35386   \n",
       "155            3.006         0.05015                   0.66320  0.47489   \n",
       "156            2.905         0.08658                   0.01530  0.41587   \n",
       "157            2.839         0.06727                   0.20868  0.13995   \n",
       "\n",
       "     Health (Life Expectancy)  Freedom  Trust (Government Corruption)  \\\n",
       "0                     0.94143  0.66557                        0.41978   \n",
       "1                     0.94784  0.62877                        0.14145   \n",
       "2                     0.87464  0.64938                        0.48357   \n",
       "3                     0.88521  0.66973                        0.36503   \n",
       "4                     0.90563  0.63297                        0.32957   \n",
       "..                        ...      ...                            ...   \n",
       "153                   0.42864  0.59201                        0.55191   \n",
       "154                   0.31910  0.48450                        0.08010   \n",
       "155                   0.72193  0.15684                        0.18906   \n",
       "156                   0.22396  0.11850                        0.10062   \n",
       "157                   0.28443  0.36453                        0.10731   \n",
       "\n",
       "     Generosity  Dystopia Residual  \n",
       "0       0.29678            2.51738  \n",
       "1       0.43630            2.70201  \n",
       "2       0.34139            2.49204  \n",
       "3       0.34699            2.46531  \n",
       "4       0.45811            2.45176  \n",
       "..          ...                ...  \n",
       "153     0.22628            0.67042  \n",
       "154     0.18260            1.63328  \n",
       "155     0.47179            0.32858  \n",
       "156     0.19727            1.83302  \n",
       "157     0.16681            1.56726  \n",
       "\n",
       "[158 rows x 12 columns]"
      ]
     },
     "execution_count": 3,
     "metadata": {},
     "output_type": "execute_result"
    }
   ],
   "source": [
    "df_2015"
   ]
  },
  {
   "cell_type": "code",
   "execution_count": 4,
   "id": "971a4feb-104b-406d-ad56-5d91c4a5aeb7",
   "metadata": {},
   "outputs": [
    {
     "name": "stdout",
     "output_type": "stream",
     "text": [
      "<class 'pandas.core.frame.DataFrame'>\n",
      "RangeIndex: 158 entries, 0 to 157\n",
      "Data columns (total 12 columns):\n",
      " #   Column                         Non-Null Count  Dtype  \n",
      "---  ------                         --------------  -----  \n",
      " 0   Country                        158 non-null    object \n",
      " 1   Region                         158 non-null    object \n",
      " 2   Happiness Rank                 158 non-null    int64  \n",
      " 3   Happiness Score                158 non-null    float64\n",
      " 4   Standard Error                 158 non-null    float64\n",
      " 5   Economy (GDP per Capita)       158 non-null    float64\n",
      " 6   Family                         158 non-null    float64\n",
      " 7   Health (Life Expectancy)       158 non-null    float64\n",
      " 8   Freedom                        158 non-null    float64\n",
      " 9   Trust (Government Corruption)  158 non-null    float64\n",
      " 10  Generosity                     158 non-null    float64\n",
      " 11  Dystopia Residual              158 non-null    float64\n",
      "dtypes: float64(9), int64(1), object(2)\n",
      "memory usage: 14.9+ KB\n"
     ]
    }
   ],
   "source": [
    "df_2015.info()"
   ]
  },
  {
   "cell_type": "markdown",
   "id": "b60b373e-b109-4eac-8428-ef7121514254",
   "metadata": {},
   "source": [
    "* Datasetimizin hangi **yıl**a ait olduğunu belirten bir column yok. Tüm datasetleri kontrol edelim."
   ]
  },
  {
   "cell_type": "code",
   "execution_count": 5,
   "id": "8d7cdfeb-3840-459a-8ad2-d64ff388a6a2",
   "metadata": {},
   "outputs": [
    {
     "name": "stdout",
     "output_type": "stream",
     "text": [
      "Index(['Country', 'Region', 'Happiness Rank', 'Happiness Score',\n",
      "       'Standard Error', 'Economy (GDP per Capita)', 'Family',\n",
      "       'Health (Life Expectancy)', 'Freedom', 'Trust (Government Corruption)',\n",
      "       'Generosity', 'Dystopia Residual'],\n",
      "      dtype='object')\n",
      "Index(['Country', 'Region', 'Happiness Rank', 'Happiness Score',\n",
      "       'Lower Confidence Interval', 'Upper Confidence Interval',\n",
      "       'Economy (GDP per Capita)', 'Family', 'Health (Life Expectancy)',\n",
      "       'Freedom', 'Trust (Government Corruption)', 'Generosity',\n",
      "       'Dystopia Residual'],\n",
      "      dtype='object')\n",
      "Index(['Country', 'Happiness.Rank', 'Happiness.Score', 'Whisker.high',\n",
      "       'Whisker.low', 'Economy..GDP.per.Capita.', 'Family',\n",
      "       'Health..Life.Expectancy.', 'Freedom', 'Generosity',\n",
      "       'Trust..Government.Corruption.', 'Dystopia.Residual'],\n",
      "      dtype='object')\n"
     ]
    }
   ],
   "source": [
    "print(df_2015.columns)\n",
    "print(df_2016.columns)\n",
    "print(df_2017.columns)"
   ]
  },
  {
   "cell_type": "markdown",
   "id": "c3a24664-e522-4112-9596-8ae70b502319",
   "metadata": {},
   "source": [
    "* Tüm datasetlerin columnlarını görüntülediğimizde görüyoruz ki, bazı column'lar bazı datasetlerde hiç yok ve kimi columnların isimleri farklı: ``Country`` ve ``Region`` columnları yerine sadece ``Country`` columnu ve kimi noktalama hataları gibi. Her bir df'imiz için bunları temizlememiz gerekli. Tüm dataframe'lere ``Year`` ekleyerek işe başlayalım."
   ]
  },
  {
   "cell_type": "code",
   "execution_count": 6,
   "id": "bd89eb2f-e4cd-4f3b-9242-0a5b62a79783",
   "metadata": {},
   "outputs": [],
   "source": [
    "df_2015 = df_2015.assign(Year = 2015)\n",
    "df_2016 = df_2016.assign(Year = 2016)\n",
    "df_2017 = df_2017.assign(Year = 2017)"
   ]
  },
  {
   "cell_type": "code",
   "execution_count": 7,
   "id": "f7fe3f2d-fdf4-4c9c-b97c-cd343cca0746",
   "metadata": {},
   "outputs": [
    {
     "name": "stdout",
     "output_type": "stream",
     "text": [
      "0      2015\n",
      "1      2015\n",
      "2      2015\n",
      "3      2015\n",
      "4      2015\n",
      "       ... \n",
      "153    2015\n",
      "154    2015\n",
      "155    2015\n",
      "156    2015\n",
      "157    2015\n",
      "Name: Year, Length: 158, dtype: int64\n",
      "0      2016\n",
      "1      2016\n",
      "2      2016\n",
      "3      2016\n",
      "4      2016\n",
      "       ... \n",
      "152    2016\n",
      "153    2016\n",
      "154    2016\n",
      "155    2016\n",
      "156    2016\n",
      "Name: Year, Length: 157, dtype: int64\n",
      "0      2017\n",
      "1      2017\n",
      "2      2017\n",
      "3      2017\n",
      "4      2017\n",
      "       ... \n",
      "150    2017\n",
      "151    2017\n",
      "152    2017\n",
      "153    2017\n",
      "154    2017\n",
      "Name: Year, Length: 155, dtype: int64\n"
     ]
    }
   ],
   "source": [
    "print(df_2015['Year'])\n",
    "print(df_2016['Year'])\n",
    "print(df_2017['Year'])"
   ]
  },
  {
   "cell_type": "code",
   "execution_count": 8,
   "id": "8e938468-d066-4b73-97e0-040c2c80c234",
   "metadata": {},
   "outputs": [
    {
     "name": "stdout",
     "output_type": "stream",
     "text": [
      "Index(['Country', 'Region', 'Happiness Rank', 'Happiness Score',\n",
      "       'Standard Error', 'Economy (GDP per Capita)', 'Family',\n",
      "       'Health (Life Expectancy)', 'Freedom', 'Trust (Government Corruption)',\n",
      "       'Generosity', 'Dystopia Residual', 'Year'],\n",
      "      dtype='object')\n",
      "Index(['Country', 'Region', 'Happiness Rank', 'Happiness Score',\n",
      "       'Lower Confidence Interval', 'Upper Confidence Interval',\n",
      "       'Economy (GDP per Capita)', 'Family', 'Health (Life Expectancy)',\n",
      "       'Freedom', 'Trust (Government Corruption)', 'Generosity',\n",
      "       'Dystopia Residual', 'Year'],\n",
      "      dtype='object')\n",
      "Index(['Country', 'Happiness.Rank', 'Happiness.Score', 'Whisker.high',\n",
      "       'Whisker.low', 'Economy..GDP.per.Capita.', 'Family',\n",
      "       'Health..Life.Expectancy.', 'Freedom', 'Generosity',\n",
      "       'Trust..Government.Corruption.', 'Dystopia.Residual', 'Year'],\n",
      "      dtype='object')\n"
     ]
    }
   ],
   "source": [
    "print(df_2015.columns)\n",
    "print(df_2016.columns)\n",
    "print(df_2017.columns)"
   ]
  },
  {
   "cell_type": "markdown",
   "id": "2acf37cb-3f17-412a-b0ea-2f47e54d835d",
   "metadata": {},
   "source": [
    "### Column İsimlerini Düzenleme"
   ]
  },
  {
   "cell_type": "markdown",
   "id": "45820be1-af81-4000-bf95-63e2a440d0a5",
   "metadata": {},
   "source": [
    "* 2017 dataframe'inin column isimlerini düzelterek işe başlayalım. En sorunluları manuel düzeltelim."
   ]
  },
  {
   "cell_type": "code",
   "execution_count": 9,
   "id": "8a7c4e2a-420e-4a96-a8d2-63b4cac609c2",
   "metadata": {},
   "outputs": [],
   "source": [
    "df_2017 = df_2017.rename(columns = {\n",
    "    'Economy..GDP.per.Capita.': 'Economy_(GDP_per_Capita)', \n",
    "    'Health..Life.Expectancy.' : 'Health_(Life_Expectancy)',\n",
    "    'Trust..Government.Corruption.': 'Trust_(Government_Corruption)'\n",
    "})                       "
   ]
  },
  {
   "cell_type": "code",
   "execution_count": 10,
   "id": "8791e14f-dd59-4629-b38e-d4fe284411a5",
   "metadata": {},
   "outputs": [
    {
     "name": "stdout",
     "output_type": "stream",
     "text": [
      "Index(['Country', 'Region', 'Happiness Rank', 'Happiness Score',\n",
      "       'Standard Error', 'Economy (GDP per Capita)', 'Family',\n",
      "       'Health (Life Expectancy)', 'Freedom', 'Trust (Government Corruption)',\n",
      "       'Generosity', 'Dystopia Residual', 'Year'],\n",
      "      dtype='object')\n",
      "Index(['Country', 'Region', 'Happiness Rank', 'Happiness Score',\n",
      "       'Lower Confidence Interval', 'Upper Confidence Interval',\n",
      "       'Economy (GDP per Capita)', 'Family', 'Health (Life Expectancy)',\n",
      "       'Freedom', 'Trust (Government Corruption)', 'Generosity',\n",
      "       'Dystopia Residual', 'Year'],\n",
      "      dtype='object')\n",
      "Index(['Country', 'Happiness.Rank', 'Happiness.Score', 'Whisker.high',\n",
      "       'Whisker.low', 'Economy_(GDP_per_Capita)', 'Family',\n",
      "       'Health_(Life_Expectancy)', 'Freedom', 'Generosity',\n",
      "       'Trust_(Government_Corruption)', 'Dystopia.Residual', 'Year'],\n",
      "      dtype='object')\n"
     ]
    }
   ],
   "source": [
    "print(df_2015.columns)\n",
    "print(df_2016.columns)\n",
    "print(df_2017.columns)"
   ]
  },
  {
   "cell_type": "markdown",
   "id": "3d43f921-03df-4d6f-adea-9eee23872daa",
   "metadata": {},
   "source": [
    "* Sözcük aralarında nokta problemi olanları ise otomatik düzeltelim. Boşluklar yerine \"_\" getirelim."
   ]
  },
  {
   "cell_type": "code",
   "execution_count": 11,
   "id": "ee0ff66a-a2a9-4446-8b66-edfb1b2ad99c",
   "metadata": {},
   "outputs": [],
   "source": [
    "df_2015.columns = df_2015.columns.str.replace(' ', '_')\n",
    "df_2016.columns = df_2016.columns.str.replace(' ', '_')\n",
    "df_2017.columns = df_2017.columns.str.replace('.', '_')"
   ]
  },
  {
   "cell_type": "code",
   "execution_count": 12,
   "id": "86a8beff-487f-4c51-8837-1cf48374a60b",
   "metadata": {},
   "outputs": [
    {
     "name": "stdout",
     "output_type": "stream",
     "text": [
      "Index(['Country', 'Region', 'Happiness_Rank', 'Happiness_Score',\n",
      "       'Standard_Error', 'Economy_(GDP_per_Capita)', 'Family',\n",
      "       'Health_(Life_Expectancy)', 'Freedom', 'Trust_(Government_Corruption)',\n",
      "       'Generosity', 'Dystopia_Residual', 'Year'],\n",
      "      dtype='object')\n",
      "Index(['Country', 'Region', 'Happiness_Rank', 'Happiness_Score',\n",
      "       'Lower_Confidence_Interval', 'Upper_Confidence_Interval',\n",
      "       'Economy_(GDP_per_Capita)', 'Family', 'Health_(Life_Expectancy)',\n",
      "       'Freedom', 'Trust_(Government_Corruption)', 'Generosity',\n",
      "       'Dystopia_Residual', 'Year'],\n",
      "      dtype='object')\n",
      "Index(['Country', 'Happiness_Rank', 'Happiness_Score', 'Whisker_high',\n",
      "       'Whisker_low', 'Economy_(GDP_per_Capita)', 'Family',\n",
      "       'Health_(Life_Expectancy)', 'Freedom', 'Generosity',\n",
      "       'Trust_(Government_Corruption)', 'Dystopia_Residual', 'Year'],\n",
      "      dtype='object')\n"
     ]
    }
   ],
   "source": [
    "print(df_2015.columns)\n",
    "print(df_2016.columns)\n",
    "print(df_2017.columns)"
   ]
  },
  {
   "cell_type": "markdown",
   "id": "e0347c47-d6f1-473b-b644-a638bf09648b",
   "metadata": {
    "tags": []
   },
   "source": [
    "### Missing Values"
   ]
  },
  {
   "cell_type": "code",
   "execution_count": 13,
   "id": "c46a84f9-68dc-4835-98b1-a1654dcf5db1",
   "metadata": {},
   "outputs": [
    {
     "data": {
      "text/plain": [
       "Country                          0\n",
       "Region                           0\n",
       "Happiness_Rank                   0\n",
       "Happiness_Score                  0\n",
       "Standard_Error                   0\n",
       "Economy_(GDP_per_Capita)         0\n",
       "Family                           0\n",
       "Health_(Life_Expectancy)         0\n",
       "Freedom                          0\n",
       "Trust_(Government_Corruption)    0\n",
       "Generosity                       0\n",
       "Dystopia_Residual                0\n",
       "Year                             0\n",
       "dtype: int64"
      ]
     },
     "execution_count": 13,
     "metadata": {},
     "output_type": "execute_result"
    }
   ],
   "source": [
    "df_2015.isnull().sum()"
   ]
  },
  {
   "cell_type": "code",
   "execution_count": 14,
   "id": "a9e2b98c-0a1a-4c9f-8fd3-81d12c587e96",
   "metadata": {},
   "outputs": [
    {
     "data": {
      "text/plain": [
       "Country                          0\n",
       "Region                           0\n",
       "Happiness_Rank                   0\n",
       "Happiness_Score                  0\n",
       "Lower_Confidence_Interval        0\n",
       "Upper_Confidence_Interval        0\n",
       "Economy_(GDP_per_Capita)         0\n",
       "Family                           0\n",
       "Health_(Life_Expectancy)         0\n",
       "Freedom                          0\n",
       "Trust_(Government_Corruption)    0\n",
       "Generosity                       0\n",
       "Dystopia_Residual                0\n",
       "Year                             0\n",
       "dtype: int64"
      ]
     },
     "execution_count": 14,
     "metadata": {},
     "output_type": "execute_result"
    }
   ],
   "source": [
    "df_2016.isnull().sum()"
   ]
  },
  {
   "cell_type": "code",
   "execution_count": 15,
   "id": "a7516829-98b3-4630-8adf-25c122da730c",
   "metadata": {},
   "outputs": [
    {
     "data": {
      "text/plain": [
       "Country                          0\n",
       "Happiness_Rank                   0\n",
       "Happiness_Score                  0\n",
       "Whisker_high                     0\n",
       "Whisker_low                      0\n",
       "Economy_(GDP_per_Capita)         0\n",
       "Family                           0\n",
       "Health_(Life_Expectancy)         0\n",
       "Freedom                          0\n",
       "Generosity                       0\n",
       "Trust_(Government_Corruption)    0\n",
       "Dystopia_Residual                0\n",
       "Year                             0\n",
       "dtype: int64"
      ]
     },
     "execution_count": 15,
     "metadata": {},
     "output_type": "execute_result"
    }
   ],
   "source": [
    "df_2017.isnull().sum()"
   ]
  },
  {
   "cell_type": "markdown",
   "id": "f6d98425-6f7f-4d83-8ab6-adb3b935754f",
   "metadata": {},
   "source": [
    "* Hiçbir verisetimizde null değer yok. Fakat **analizimizde kullanmayacağımız** ve tüm verisetlerimizde **ortak olmayan** columnları verisetlerimizden atalım."
   ]
  },
  {
   "cell_type": "code",
   "execution_count": 16,
   "id": "6bc1e84f-54bd-46c0-ac3d-021cf18bef22",
   "metadata": {},
   "outputs": [],
   "source": [
    "df_2017 = df_2017.drop(columns =['Whisker_high', 'Whisker_low'])\n",
    "df_2016 = df_2016.drop(columns = ['Lower_Confidence_Interval','Upper_Confidence_Interval'])\n",
    "df_2015 = df_2015.drop(columns = ['Standard_Error'])"
   ]
  },
  {
   "cell_type": "markdown",
   "id": "448450b4-3a39-4815-9b64-d9264a86d46f",
   "metadata": {},
   "source": [
    "* 2017 verisetimizde ``Region`` columnu eksik. Bunu ``2016 veri seti`` ile kıyaslayarak ekleyeceğim."
   ]
  },
  {
   "cell_type": "code",
   "execution_count": 17,
   "id": "8822517d-dcf8-4292-a1dc-5b28f9be9c7b",
   "metadata": {},
   "outputs": [
    {
     "name": "stdout",
     "output_type": "stream",
     "text": [
      "\"Taiwan Province of China\" 2016 verisetinde bulunamadı\n",
      "\"Hong Kong S.A.R., China\" 2016 verisetinde bulunamadı\n",
      "\"Mozambique\" 2016 verisetinde bulunamadı\n",
      "\"Lesotho\" 2016 verisetinde bulunamadı\n",
      "\"Central African Republic\" 2016 verisetinde bulunamadı\n"
     ]
    }
   ],
   "source": [
    "regions = []\n",
    "\n",
    "# loop\n",
    "for index, row in df_2017.iterrows():\n",
    "    # kıyaslayacağımız country değeri\n",
    "    country = row['Country']\n",
    "    \n",
    "    #  df_2016'de o country'ye karşılık gelen region değeri\n",
    "    region = df_2016.loc[df_2016['Country'] == country, 'Region']\n",
    "    \n",
    "    # dataframe'de o ülke yoksa,\n",
    "    if region.empty:\n",
    "        # eğer yoksa, default değer ata\n",
    "        region = 'N/A'\n",
    "        print(f'\"{country}\" 2016 verisetinde bulunamadı')\n",
    "    else:\n",
    "        \n",
    "        region = region.iloc[0]\n",
    "    \n",
    "    # bölge ismili listeye ekle\n",
    "    regions.append(region)\n",
    "\n",
    "# 2017 dataframe'ine bölgeyi ekle\n",
    "df_2017['Region'] = regions"
   ]
  },
  {
   "cell_type": "markdown",
   "id": "8ff3bbdf-77f5-4a80-8e92-4d0b2636854a",
   "metadata": {},
   "source": [
    "* 5 ülke dışında başarılı bir şekilde ülkelerin bölgelerini aldık ve 2017 dataframe'ine ekledik. Rastgele 10 ülkeyi kontrol edelim ki loopumuzun bölgelerimizi doğru aldığından emin olalım."
   ]
  },
  {
   "cell_type": "code",
   "execution_count": 18,
   "id": "0a484c15-e5d0-46af-bdac-94231a9b7db0",
   "metadata": {},
   "outputs": [
    {
     "data": {
      "text/html": [
       "<div>\n",
       "<style scoped>\n",
       "    .dataframe tbody tr th:only-of-type {\n",
       "        vertical-align: middle;\n",
       "    }\n",
       "\n",
       "    .dataframe tbody tr th {\n",
       "        vertical-align: top;\n",
       "    }\n",
       "\n",
       "    .dataframe thead th {\n",
       "        text-align: right;\n",
       "    }\n",
       "</style>\n",
       "<table border=\"1\" class=\"dataframe\">\n",
       "  <thead>\n",
       "    <tr style=\"text-align: right;\">\n",
       "      <th></th>\n",
       "      <th>Country</th>\n",
       "      <th>Happiness_Rank</th>\n",
       "      <th>Happiness_Score</th>\n",
       "      <th>Economy_(GDP_per_Capita)</th>\n",
       "      <th>Family</th>\n",
       "      <th>Health_(Life_Expectancy)</th>\n",
       "      <th>Freedom</th>\n",
       "      <th>Generosity</th>\n",
       "      <th>Trust_(Government_Corruption)</th>\n",
       "      <th>Dystopia_Residual</th>\n",
       "      <th>Year</th>\n",
       "      <th>Region</th>\n",
       "    </tr>\n",
       "  </thead>\n",
       "  <tbody>\n",
       "    <tr>\n",
       "      <th>124</th>\n",
       "      <td>Georgia</td>\n",
       "      <td>125</td>\n",
       "      <td>4.286</td>\n",
       "      <td>0.950613</td>\n",
       "      <td>0.570615</td>\n",
       "      <td>0.649547</td>\n",
       "      <td>0.309410</td>\n",
       "      <td>0.054009</td>\n",
       "      <td>0.251667</td>\n",
       "      <td>1.500138</td>\n",
       "      <td>2017</td>\n",
       "      <td>Central and Eastern Europe</td>\n",
       "    </tr>\n",
       "    <tr>\n",
       "      <th>58</th>\n",
       "      <td>Turkmenistan</td>\n",
       "      <td>59</td>\n",
       "      <td>5.822</td>\n",
       "      <td>1.130777</td>\n",
       "      <td>1.493149</td>\n",
       "      <td>0.437726</td>\n",
       "      <td>0.418272</td>\n",
       "      <td>0.249925</td>\n",
       "      <td>0.259270</td>\n",
       "      <td>1.832910</td>\n",
       "      <td>2017</td>\n",
       "      <td>Central and Eastern Europe</td>\n",
       "    </tr>\n",
       "    <tr>\n",
       "      <th>63</th>\n",
       "      <td>Mauritius</td>\n",
       "      <td>64</td>\n",
       "      <td>5.629</td>\n",
       "      <td>1.189396</td>\n",
       "      <td>1.209561</td>\n",
       "      <td>0.638007</td>\n",
       "      <td>0.491247</td>\n",
       "      <td>0.360934</td>\n",
       "      <td>0.042182</td>\n",
       "      <td>1.697584</td>\n",
       "      <td>2017</td>\n",
       "      <td>Sub-Saharan Africa</td>\n",
       "    </tr>\n",
       "    <tr>\n",
       "      <th>144</th>\n",
       "      <td>Haiti</td>\n",
       "      <td>145</td>\n",
       "      <td>3.603</td>\n",
       "      <td>0.368610</td>\n",
       "      <td>0.640450</td>\n",
       "      <td>0.277321</td>\n",
       "      <td>0.030370</td>\n",
       "      <td>0.489204</td>\n",
       "      <td>0.099872</td>\n",
       "      <td>1.697168</td>\n",
       "      <td>2017</td>\n",
       "      <td>Latin America and Caribbean</td>\n",
       "    </tr>\n",
       "    <tr>\n",
       "      <th>143</th>\n",
       "      <td>Madagascar</td>\n",
       "      <td>144</td>\n",
       "      <td>3.644</td>\n",
       "      <td>0.305809</td>\n",
       "      <td>0.913020</td>\n",
       "      <td>0.375223</td>\n",
       "      <td>0.189197</td>\n",
       "      <td>0.208733</td>\n",
       "      <td>0.067232</td>\n",
       "      <td>1.584613</td>\n",
       "      <td>2017</td>\n",
       "      <td>Sub-Saharan Africa</td>\n",
       "    </tr>\n",
       "    <tr>\n",
       "      <th>120</th>\n",
       "      <td>Armenia</td>\n",
       "      <td>121</td>\n",
       "      <td>4.376</td>\n",
       "      <td>0.900597</td>\n",
       "      <td>1.007484</td>\n",
       "      <td>0.637524</td>\n",
       "      <td>0.198303</td>\n",
       "      <td>0.083488</td>\n",
       "      <td>0.026674</td>\n",
       "      <td>1.521499</td>\n",
       "      <td>2017</td>\n",
       "      <td>Central and Eastern Europe</td>\n",
       "    </tr>\n",
       "    <tr>\n",
       "      <th>36</th>\n",
       "      <td>Saudi Arabia</td>\n",
       "      <td>37</td>\n",
       "      <td>6.344</td>\n",
       "      <td>1.530624</td>\n",
       "      <td>1.286678</td>\n",
       "      <td>0.590148</td>\n",
       "      <td>0.449751</td>\n",
       "      <td>0.147616</td>\n",
       "      <td>0.273432</td>\n",
       "      <td>2.065430</td>\n",
       "      <td>2017</td>\n",
       "      <td>Middle East and Northern Africa</td>\n",
       "    </tr>\n",
       "    <tr>\n",
       "      <th>57</th>\n",
       "      <td>Bolivia</td>\n",
       "      <td>58</td>\n",
       "      <td>5.823</td>\n",
       "      <td>0.833757</td>\n",
       "      <td>1.227619</td>\n",
       "      <td>0.473630</td>\n",
       "      <td>0.558733</td>\n",
       "      <td>0.225561</td>\n",
       "      <td>0.060478</td>\n",
       "      <td>2.443279</td>\n",
       "      <td>2017</td>\n",
       "      <td>Latin America and Caribbean</td>\n",
       "    </tr>\n",
       "    <tr>\n",
       "      <th>107</th>\n",
       "      <td>Iran</td>\n",
       "      <td>108</td>\n",
       "      <td>4.692</td>\n",
       "      <td>1.156873</td>\n",
       "      <td>0.711551</td>\n",
       "      <td>0.639333</td>\n",
       "      <td>0.249323</td>\n",
       "      <td>0.387243</td>\n",
       "      <td>0.048761</td>\n",
       "      <td>1.498735</td>\n",
       "      <td>2017</td>\n",
       "      <td>Middle East and Northern Africa</td>\n",
       "    </tr>\n",
       "    <tr>\n",
       "      <th>31</th>\n",
       "      <td>Thailand</td>\n",
       "      <td>32</td>\n",
       "      <td>6.424</td>\n",
       "      <td>1.127869</td>\n",
       "      <td>1.425792</td>\n",
       "      <td>0.647239</td>\n",
       "      <td>0.580201</td>\n",
       "      <td>0.572123</td>\n",
       "      <td>0.031613</td>\n",
       "      <td>2.039508</td>\n",
       "      <td>2017</td>\n",
       "      <td>Southeastern Asia</td>\n",
       "    </tr>\n",
       "  </tbody>\n",
       "</table>\n",
       "</div>"
      ],
      "text/plain": [
       "          Country  Happiness_Rank  Happiness_Score  Economy_(GDP_per_Capita)  \\\n",
       "124       Georgia             125            4.286                  0.950613   \n",
       "58   Turkmenistan              59            5.822                  1.130777   \n",
       "63      Mauritius              64            5.629                  1.189396   \n",
       "144         Haiti             145            3.603                  0.368610   \n",
       "143    Madagascar             144            3.644                  0.305809   \n",
       "120       Armenia             121            4.376                  0.900597   \n",
       "36   Saudi Arabia              37            6.344                  1.530624   \n",
       "57        Bolivia              58            5.823                  0.833757   \n",
       "107          Iran             108            4.692                  1.156873   \n",
       "31       Thailand              32            6.424                  1.127869   \n",
       "\n",
       "       Family  Health_(Life_Expectancy)   Freedom  Generosity  \\\n",
       "124  0.570615                  0.649547  0.309410    0.054009   \n",
       "58   1.493149                  0.437726  0.418272    0.249925   \n",
       "63   1.209561                  0.638007  0.491247    0.360934   \n",
       "144  0.640450                  0.277321  0.030370    0.489204   \n",
       "143  0.913020                  0.375223  0.189197    0.208733   \n",
       "120  1.007484                  0.637524  0.198303    0.083488   \n",
       "36   1.286678                  0.590148  0.449751    0.147616   \n",
       "57   1.227619                  0.473630  0.558733    0.225561   \n",
       "107  0.711551                  0.639333  0.249323    0.387243   \n",
       "31   1.425792                  0.647239  0.580201    0.572123   \n",
       "\n",
       "     Trust_(Government_Corruption)  Dystopia_Residual  Year  \\\n",
       "124                       0.251667           1.500138  2017   \n",
       "58                        0.259270           1.832910  2017   \n",
       "63                        0.042182           1.697584  2017   \n",
       "144                       0.099872           1.697168  2017   \n",
       "143                       0.067232           1.584613  2017   \n",
       "120                       0.026674           1.521499  2017   \n",
       "36                        0.273432           2.065430  2017   \n",
       "57                        0.060478           2.443279  2017   \n",
       "107                       0.048761           1.498735  2017   \n",
       "31                        0.031613           2.039508  2017   \n",
       "\n",
       "                              Region  \n",
       "124       Central and Eastern Europe  \n",
       "58        Central and Eastern Europe  \n",
       "63                Sub-Saharan Africa  \n",
       "144      Latin America and Caribbean  \n",
       "143               Sub-Saharan Africa  \n",
       "120       Central and Eastern Europe  \n",
       "36   Middle East and Northern Africa  \n",
       "57       Latin America and Caribbean  \n",
       "107  Middle East and Northern Africa  \n",
       "31                 Southeastern Asia  "
      ]
     },
     "execution_count": 18,
     "metadata": {},
     "output_type": "execute_result"
    }
   ],
   "source": [
    "df_2017.sample(10)"
   ]
  },
  {
   "cell_type": "code",
   "execution_count": 19,
   "id": "18eddff1-622a-4f92-9646-0e3d30113d30",
   "metadata": {},
   "outputs": [
    {
     "data": {
      "text/plain": [
       "array(['Western Europe', 'North America', 'Australia and New Zealand',\n",
       "       'Middle East and Northern Africa', 'Latin America and Caribbean',\n",
       "       'Central and Eastern Europe', 'Southeastern Asia', 'N/A',\n",
       "       'Eastern Asia', 'Sub-Saharan Africa', 'Southern Asia'],\n",
       "      dtype=object)"
      ]
     },
     "execution_count": 19,
     "metadata": {},
     "output_type": "execute_result"
    }
   ],
   "source": [
    "df_2017['Region'].unique()"
   ]
  },
  {
   "cell_type": "markdown",
   "id": "82a2d77d-f89e-4088-a36f-919e04d7a12b",
   "metadata": {},
   "source": [
    "* Ülke ve Bölgeleri doğru. Kısa bir Wikipedia araştırmasıyla eksik olan 5 ülkenin bölgelerini de buldum. Bunları manuel olarak ilgili ülkelere verelim."
   ]
  },
  {
   "cell_type": "code",
   "execution_count": 20,
   "id": "16468b53-1311-47cb-a9ba-7bb9eadc643e",
   "metadata": {},
   "outputs": [],
   "source": [
    "# Region değerinin N/A olduğu ülkeleri seçelim.\n",
    "na_rows = df_2017[df_2017['Region'] == 'N/A']\n",
    "\n",
    "# İterasyon\n",
    "for index, row in na_rows.iterrows():\n",
    "    # iterasyondaki ülkenin value'sunu al,\n",
    "    country = row['Country']\n",
    "    \n",
    "    # Region değerini değiştir.\n",
    "    if country == 'Taiwan Province of China':\n",
    "        df_2017.loc[index, 'Region'] = 'Eastern Asia'\n",
    "    elif country == 'Mozambique':\n",
    "        df_2017.loc[index, 'Region'] = 'Sub-Saharan Africa'\n",
    "    elif country == 'Lesotho':\n",
    "        df_2017.loc[index, 'Region'] = 'Sub-Saharan Africa'\n",
    "    elif country == 'Central African Republic':\n",
    "        df_2017.loc[index, 'Region'] = 'Sub-Saharan Africa'\n",
    "    elif country == 'Hong Kong S.A.R., China':\n",
    "        df_2017.loc[index, 'Region'] = 'Southeastern Asia'\n"
   ]
  },
  {
   "cell_type": "code",
   "execution_count": 21,
   "id": "724ffc3e-619d-4e51-b0fd-5d89d8092ee1",
   "metadata": {},
   "outputs": [
    {
     "name": "stdout",
     "output_type": "stream",
     "text": [
      "Index(['Country', 'Region', 'Happiness_Rank', 'Happiness_Score',\n",
      "       'Economy_(GDP_per_Capita)', 'Family', 'Health_(Life_Expectancy)',\n",
      "       'Freedom', 'Trust_(Government_Corruption)', 'Generosity',\n",
      "       'Dystopia_Residual', 'Year'],\n",
      "      dtype='object')\n",
      "Index(['Country', 'Region', 'Happiness_Rank', 'Happiness_Score',\n",
      "       'Economy_(GDP_per_Capita)', 'Family', 'Health_(Life_Expectancy)',\n",
      "       'Freedom', 'Trust_(Government_Corruption)', 'Generosity',\n",
      "       'Dystopia_Residual', 'Year'],\n",
      "      dtype='object')\n",
      "Index(['Country', 'Happiness_Rank', 'Happiness_Score',\n",
      "       'Economy_(GDP_per_Capita)', 'Family', 'Health_(Life_Expectancy)',\n",
      "       'Freedom', 'Generosity', 'Trust_(Government_Corruption)',\n",
      "       'Dystopia_Residual', 'Year', 'Region'],\n",
      "      dtype='object')\n"
     ]
    }
   ],
   "source": [
    "print(df_2015.columns)\n",
    "print(df_2016.columns)\n",
    "print(df_2017.columns)"
   ]
  },
  {
   "cell_type": "markdown",
   "id": "ad56b012-5eac-49c8-8cf0-d9b0bae6332a",
   "metadata": {},
   "source": [
    "* Column sıralamalarımızı aynı hale getirelim."
   ]
  },
  {
   "cell_type": "code",
   "execution_count": 22,
   "id": "b9f5ffbd-7432-44de-9c0b-39dce53c49a2",
   "metadata": {},
   "outputs": [],
   "source": [
    "df_2017 = df_2017[['Country', 'Region', 'Happiness_Rank', 'Happiness_Score',\n",
    "       'Economy_(GDP_per_Capita)', 'Family', 'Health_(Life_Expectancy)',\n",
    "       'Freedom', 'Trust_(Government_Corruption)', 'Generosity',\n",
    "       'Dystopia_Residual', 'Year']]"
   ]
  },
  {
   "cell_type": "markdown",
   "id": "40cd666c-a60f-4f1e-b6c9-4128a4139413",
   "metadata": {},
   "source": [
    "* Dataframe'ler arası column isimlerinde bir fark var mı?"
   ]
  },
  {
   "cell_type": "code",
   "execution_count": 23,
   "id": "afffeed8-ba8e-413a-9bb9-d563580fa503",
   "metadata": {},
   "outputs": [
    {
     "name": "stdout",
     "output_type": "stream",
     "text": [
      "Dataframelerin columnları aynılar.\n"
     ]
    }
   ],
   "source": [
    "if (df_2015.columns == df_2016.columns).all() and (df_2016.columns == df_2017.columns).all(): \n",
    "    print('Dataframelerin columnları aynılar.')\n",
    "else:\n",
    "    print('Dataframelerin columnları aynı değiller.')"
   ]
  },
  {
   "cell_type": "code",
   "execution_count": 24,
   "id": "6e1164a1-993d-4f02-b7ee-a040954b074d",
   "metadata": {
    "tags": []
   },
   "outputs": [
    {
     "data": {
      "text/plain": [
       "(155, 12)"
      ]
     },
     "execution_count": 24,
     "metadata": {},
     "output_type": "execute_result"
    }
   ],
   "source": [
    "df_2017.shape"
   ]
  },
  {
   "cell_type": "code",
   "execution_count": 25,
   "id": "cbcc4a83-0a63-4c83-9dcd-53b229fdae7a",
   "metadata": {},
   "outputs": [
    {
     "name": "stdout",
     "output_type": "stream",
     "text": [
      "<class 'pandas.core.frame.DataFrame'>\n",
      "RangeIndex: 155 entries, 0 to 154\n",
      "Data columns (total 12 columns):\n",
      " #   Column                         Non-Null Count  Dtype  \n",
      "---  ------                         --------------  -----  \n",
      " 0   Country                        155 non-null    object \n",
      " 1   Region                         155 non-null    object \n",
      " 2   Happiness_Rank                 155 non-null    int64  \n",
      " 3   Happiness_Score                155 non-null    float64\n",
      " 4   Economy_(GDP_per_Capita)       155 non-null    float64\n",
      " 5   Family                         155 non-null    float64\n",
      " 6   Health_(Life_Expectancy)       155 non-null    float64\n",
      " 7   Freedom                        155 non-null    float64\n",
      " 8   Trust_(Government_Corruption)  155 non-null    float64\n",
      " 9   Generosity                     155 non-null    float64\n",
      " 10  Dystopia_Residual              155 non-null    float64\n",
      " 11  Year                           155 non-null    int64  \n",
      "dtypes: float64(8), int64(2), object(2)\n",
      "memory usage: 14.7+ KB\n"
     ]
    }
   ],
   "source": [
    "df_2017.info()"
   ]
  },
  {
   "cell_type": "markdown",
   "id": "b4de59ad-b0c5-484e-abb8-3fa5976de979",
   "metadata": {},
   "source": [
    "# Analiz"
   ]
  },
  {
   "cell_type": "markdown",
   "id": "9cf6182c-4b48-4984-bbd2-9b28c9d24a65",
   "metadata": {},
   "source": [
    "### Yıllara Göre En Mutlu 5 Ülke"
   ]
  },
  {
   "cell_type": "code",
   "execution_count": 40,
   "id": "11d3347a-9085-4909-9688-57a3176a86ba",
   "metadata": {},
   "outputs": [],
   "source": [
    "import matplotlib.pyplot as plt"
   ]
  },
  {
   "cell_type": "code",
   "execution_count": 42,
   "id": "307400b8-5c54-4d49-824c-b2f9a93bbd6c",
   "metadata": {},
   "outputs": [
    {
     "data": {
      "image/png": "[encoded data removed]",
      "text/plain": [
       "<Figure size 1200x400 with 3 Axes>"
      ]
     },
     "metadata": {},
     "output_type": "display_data"
    }
   ],
   "source": [
    "dataframes = [df_2015, df_2016, df_2017]\n",
    "years = [2015, 2016, 2017]\n",
    "\n",
    "fig, axs = plt.subplots(1, len(dataframes), figsize=(12, 4))\n",
    "\n",
    "for ax, df, year in zip(axs, dataframes, years):\n",
    "    # dataframe'deki ilk 5 row\n",
    "    top_5 = df.head(5)\n",
    "    \n",
    "    # Country ve Happiness_Rank değerlerini al,\n",
    "    labels = top_5['Country']\n",
    "    sizes = top_5['Happiness_Rank']\n",
    "    \n",
    "    # piechart\n",
    "    ax.pie(sizes, labels=labels)\n",
    "    ax.set_title(f'En Mutlu 5 Ülke ({year})')"
   ]
  },
  {
   "cell_type": "markdown",
   "id": "9cb0f8d7-7ec2-4310-b360-edbf30d05ffd",
   "metadata": {},
   "source": [
    "## Yıllara Göre Bölgelerin Mutluluk Ortalamaları"
   ]
  },
  {
   "cell_type": "markdown",
   "id": "2063e182-3e37-4136-9394-166cc540a710",
   "metadata": {},
   "source": [
    "### 2015"
   ]
  },
  {
   "cell_type": "code",
   "execution_count": 43,
   "id": "7b9e9db5-2970-43d5-9ea2-c19a3790c68c",
   "metadata": {},
   "outputs": [
    {
     "data": {
      "text/html": [
       "<div>\n",
       "<style scoped>\n",
       "    .dataframe tbody tr th:only-of-type {\n",
       "        vertical-align: middle;\n",
       "    }\n",
       "\n",
       "    .dataframe tbody tr th {\n",
       "        vertical-align: top;\n",
       "    }\n",
       "\n",
       "    .dataframe thead th {\n",
       "        text-align: right;\n",
       "    }\n",
       "</style>\n",
       "<table border=\"1\" class=\"dataframe\">\n",
       "  <thead>\n",
       "    <tr style=\"text-align: right;\">\n",
       "      <th></th>\n",
       "      <th>region</th>\n",
       "      <th>region_happiness_ratio</th>\n",
       "    </tr>\n",
       "  </thead>\n",
       "  <tbody>\n",
       "    <tr>\n",
       "      <th>2</th>\n",
       "      <td>Australia and New Zealand</td>\n",
       "      <td>7.285000</td>\n",
       "    </tr>\n",
       "    <tr>\n",
       "      <th>1</th>\n",
       "      <td>North America</td>\n",
       "      <td>7.273000</td>\n",
       "    </tr>\n",
       "    <tr>\n",
       "      <th>0</th>\n",
       "      <td>Western Europe</td>\n",
       "      <td>6.689619</td>\n",
       "    </tr>\n",
       "    <tr>\n",
       "      <th>4</th>\n",
       "      <td>Latin America and Caribbean</td>\n",
       "      <td>6.144682</td>\n",
       "    </tr>\n",
       "    <tr>\n",
       "      <th>7</th>\n",
       "      <td>Eastern Asia</td>\n",
       "      <td>5.626167</td>\n",
       "    </tr>\n",
       "    <tr>\n",
       "      <th>3</th>\n",
       "      <td>Middle East and Northern Africa</td>\n",
       "      <td>5.406900</td>\n",
       "    </tr>\n",
       "    <tr>\n",
       "      <th>6</th>\n",
       "      <td>Central and Eastern Europe</td>\n",
       "      <td>5.332931</td>\n",
       "    </tr>\n",
       "    <tr>\n",
       "      <th>5</th>\n",
       "      <td>Southeastern Asia</td>\n",
       "      <td>5.317444</td>\n",
       "    </tr>\n",
       "    <tr>\n",
       "      <th>9</th>\n",
       "      <td>Southern Asia</td>\n",
       "      <td>4.580857</td>\n",
       "    </tr>\n",
       "    <tr>\n",
       "      <th>8</th>\n",
       "      <td>Sub-Saharan Africa</td>\n",
       "      <td>4.202800</td>\n",
       "    </tr>\n",
       "  </tbody>\n",
       "</table>\n",
       "</div>"
      ],
      "text/plain": [
       "                            region  region_happiness_ratio\n",
       "2        Australia and New Zealand                7.285000\n",
       "1                    North America                7.273000\n",
       "0                   Western Europe                6.689619\n",
       "4      Latin America and Caribbean                6.144682\n",
       "7                     Eastern Asia                5.626167\n",
       "3  Middle East and Northern Africa                5.406900\n",
       "6       Central and Eastern Europe                5.332931\n",
       "5                Southeastern Asia                5.317444\n",
       "9                    Southern Asia                4.580857\n",
       "8               Sub-Saharan Africa                4.202800"
      ]
     },
     "execution_count": 43,
     "metadata": {},
     "output_type": "execute_result"
    }
   ],
   "source": [
    "region_lists=list(df_2015['Region'].unique())\n",
    "region_happiness_ratio=[]\n",
    "\n",
    "for each in region_lists:\n",
    "    region = df_2015[df_2015['Region']==each]\n",
    "    region_happiness_rate = sum(region.Happiness_Score)/len(region)\n",
    "    region_happiness_ratio.append(region_happiness_rate)\n",
    "    \n",
    "data=pd.DataFrame({'region':region_lists,'region_happiness_ratio':region_happiness_ratio})\n",
    "new_index=(data['region_happiness_ratio'].sort_values(ascending=False)).index.values\n",
    "sorted_data = data.reindex(new_index)\n",
    "\n",
    "sorted_data"
   ]
  },
  {
   "cell_type": "code",
   "execution_count": 44,
   "id": "584198c7-4587-403c-b325-80f2dcb880ab",
   "metadata": {},
   "outputs": [],
   "source": [
    "import matplotlib.pyplot as plt"
   ]
  },
  {
   "cell_type": "code",
   "execution_count": 45,
   "id": "52032c54-0231-4152-a5b2-19f452aa301f",
   "metadata": {},
   "outputs": [
    {
     "data": {
      "text/plain": [
       "Text(0, 0.5, 'Ortalama Skor')"
      ]
     },
     "execution_count": 45,
     "metadata": {},
     "output_type": "execute_result"
    },
    {
     "data": {
      "image/png": "[encoded data removed]",
      "text/plain": [
       "<Figure size 640x480 with 1 Axes>"
      ]
     },
     "metadata": {},
     "output_type": "display_data"
    }
   ],
   "source": [
    "# bölge ve mutluluk skoru ortalamasına göre gruplama,\n",
    "region_means1 = df_2015.groupby('Region')['Happiness_Score'].mean()\n",
    "\n",
    "# Ortalama mutluluk skoruna göre azalarak sıralama,\n",
    "region_means1 = region_means1.sort_values(ascending=False)\n",
    "\n",
    "# Plot\n",
    "region_means1.plot(kind='bar')\n",
    "plt.title('2015 Yılı Bölgelere Göre Mutluluk Ortalamaları')\n",
    "plt.ylabel('Ortalama Skor')"
   ]
  },
  {
   "cell_type": "code",
   "execution_count": 46,
   "id": "891ac134-a920-42ec-8a40-638ca68c5930",
   "metadata": {},
   "outputs": [
    {
     "data": {
      "text/plain": [
       "Text(0, 0.5, 'Ortalama Skor')"
      ]
     },
     "execution_count": 46,
     "metadata": {},
     "output_type": "execute_result"
    },
    {
     "data": {
      "image/png": "[encoded data removed]",
      "text/plain": [
       "<Figure size 640x480 with 1 Axes>"
      ]
     },
     "metadata": {},
     "output_type": "display_data"
    }
   ],
   "source": [
    "region_means2 = df_2016.groupby('Region')['Happiness_Score'].mean()\n",
    "\n",
    "region_means2 = region_means2.sort_values(ascending=False)\n",
    "\n",
    "region_means2.plot(kind='bar')\n",
    "plt.title('2016 Yılı Bölgelere Göre Mutluluk Ortalamaları')\n",
    "plt.ylabel('Ortalama Skor')"
   ]
  },
  {
   "cell_type": "code",
   "execution_count": 47,
   "id": "878dd6d5-df32-4626-a49b-10714810a9c5",
   "metadata": {},
   "outputs": [
    {
     "data": {
      "text/plain": [
       "Text(0, 0.5, 'Ortalama Skor')"
      ]
     },
     "execution_count": 47,
     "metadata": {},
     "output_type": "execute_result"
    },
    {
     "data": {
      "image/png": "[encoded data removed]",
      "text/plain": [
       "<Figure size 640x480 with 1 Axes>"
      ]
     },
     "metadata": {},
     "output_type": "display_data"
    }
   ],
   "source": [
    "region_means3 = df_2017.groupby('Region')['Happiness_Score'].mean()\n",
    "\n",
    "region_means3 = region_means3.sort_values(ascending=False)\n",
    "\n",
    "region_means3.plot(kind='bar')\n",
    "plt.title('2017 Yılı Bölgelere Göre Mutluluk Ortalamaları')\n",
    "plt.ylabel('Ortalama Skor')"
   ]
  },
  {
   "cell_type": "code",
   "execution_count": null,
   "id": "65a715f0-6305-468a-8ea7-c88df9e37d5b",
   "metadata": {},
   "outputs": [],
   "source": [
    "region_lists=list(df_2016['Region'].unique())\n",
    "region_happiness_ratio=[]\n",
    "\n",
    "for each in region_lists:\n",
    "    region = df_2016[df_2016['Region']==each]\n",
    "    region_happiness_rate = sum(region.Happiness_Score)/len(region)\n",
    "    region_happiness_ratio.append(region_happiness_rate)\n",
    "    \n",
    "data=pd.DataFrame({'region':region_lists,'region_happiness_ratio':region_happiness_ratio})\n",
    "new_index=(data['region_happiness_ratio'].sort_values(ascending=False)).index.values\n",
    "sorted_data = data.reindex(new_index)\n",
    "\n",
    "sorted_data"
   ]
  },
  {
   "cell_type": "markdown",
   "id": "0aa6c1e6-50d7-4867-aff7-464051f29fb8",
   "metadata": {},
   "source": [
    "### Yıllara Göre Mutluluğu Azalan ve Artan Ülkeler"
   ]
  },
  {
   "cell_type": "code",
   "execution_count": 49,
   "id": "f544e702-703c-4f7f-8c34-3e77b8f931f5",
   "metadata": {},
   "outputs": [],
   "source": [
    "# Country ve Region colonlarıyla yeni bir df yaratalım.\n",
    "df_together = pd.DataFrame(columns=['Country', 'Region'])\n",
    "\n",
    "# Loop\n",
    "for df, year in [(df_2015, 2015), (df_2016, 2016), (df_2017, 2017)]:\n",
    "    # Yıla göre Happiness_Score Column'u\n",
    "    col_name = f'Happiness_Score_{year}'\n",
    "    df_together[col_name] = np.nan\n",
    "    \n",
    "    # Loop\n",
    "    for _, row in df.iterrows():\n",
    "        country = row['Country']\n",
    "        happiness_score = row['Happiness_Score']\n",
    "        region = row['Region']\n",
    "        \n",
    "        # Ülke df_together'da var mı\n",
    "        if country in df_together['Country'].values:\n",
    "            # varsa, happiness score'unu değiştir,\n",
    "            df_together.loc[df_together['Country'] == country, col_name] = happiness_score\n",
    "        else:\n",
    "            # yoksa, df_together'a ilgili columnları ve mutluluk skorunu ekle\n",
    "            df_together = df_together.append({'Country': country, 'Region': region, col_name: happiness_score}, ignore_index=True)"
   ]
  },
  {
   "cell_type": "code",
   "execution_count": 50,
   "id": "15b6268e-66c1-4839-bc50-318cba5a2ab0",
   "metadata": {},
   "outputs": [
    {
     "data": {
      "text/html": [
       "<div>\n",
       "<style scoped>\n",
       "    .dataframe tbody tr th:only-of-type {\n",
       "        vertical-align: middle;\n",
       "    }\n",
       "\n",
       "    .dataframe tbody tr th {\n",
       "        vertical-align: top;\n",
       "    }\n",
       "\n",
       "    .dataframe thead th {\n",
       "        text-align: right;\n",
       "    }\n",
       "</style>\n",
       "<table border=\"1\" class=\"dataframe\">\n",
       "  <thead>\n",
       "    <tr style=\"text-align: right;\">\n",
       "      <th></th>\n",
       "      <th>Country</th>\n",
       "      <th>Region</th>\n",
       "      <th>Happiness_Score_2015</th>\n",
       "      <th>Happiness_Score_2016</th>\n",
       "      <th>Happiness_Score_2017</th>\n",
       "    </tr>\n",
       "  </thead>\n",
       "  <tbody>\n",
       "    <tr>\n",
       "      <th>0</th>\n",
       "      <td>Switzerland</td>\n",
       "      <td>Western Europe</td>\n",
       "      <td>7.587</td>\n",
       "      <td>7.509</td>\n",
       "      <td>7.494</td>\n",
       "    </tr>\n",
       "    <tr>\n",
       "      <th>1</th>\n",
       "      <td>Iceland</td>\n",
       "      <td>Western Europe</td>\n",
       "      <td>7.561</td>\n",
       "      <td>7.501</td>\n",
       "      <td>7.504</td>\n",
       "    </tr>\n",
       "    <tr>\n",
       "      <th>2</th>\n",
       "      <td>Denmark</td>\n",
       "      <td>Western Europe</td>\n",
       "      <td>7.527</td>\n",
       "      <td>7.526</td>\n",
       "      <td>7.522</td>\n",
       "    </tr>\n",
       "    <tr>\n",
       "      <th>3</th>\n",
       "      <td>Norway</td>\n",
       "      <td>Western Europe</td>\n",
       "      <td>7.522</td>\n",
       "      <td>7.498</td>\n",
       "      <td>7.537</td>\n",
       "    </tr>\n",
       "    <tr>\n",
       "      <th>4</th>\n",
       "      <td>Canada</td>\n",
       "      <td>North America</td>\n",
       "      <td>7.427</td>\n",
       "      <td>7.404</td>\n",
       "      <td>7.316</td>\n",
       "    </tr>\n",
       "    <tr>\n",
       "      <th>...</th>\n",
       "      <td>...</td>\n",
       "      <td>...</td>\n",
       "      <td>...</td>\n",
       "      <td>...</td>\n",
       "      <td>...</td>\n",
       "    </tr>\n",
       "    <tr>\n",
       "      <th>161</th>\n",
       "      <td>Somaliland Region</td>\n",
       "      <td>Sub-Saharan Africa</td>\n",
       "      <td>NaN</td>\n",
       "      <td>5.057</td>\n",
       "      <td>NaN</td>\n",
       "    </tr>\n",
       "    <tr>\n",
       "      <th>162</th>\n",
       "      <td>Namibia</td>\n",
       "      <td>Sub-Saharan Africa</td>\n",
       "      <td>NaN</td>\n",
       "      <td>4.574</td>\n",
       "      <td>4.574</td>\n",
       "    </tr>\n",
       "    <tr>\n",
       "      <th>163</th>\n",
       "      <td>South Sudan</td>\n",
       "      <td>Sub-Saharan Africa</td>\n",
       "      <td>NaN</td>\n",
       "      <td>3.832</td>\n",
       "      <td>3.591</td>\n",
       "    </tr>\n",
       "    <tr>\n",
       "      <th>164</th>\n",
       "      <td>Taiwan Province of China</td>\n",
       "      <td>Eastern Asia</td>\n",
       "      <td>NaN</td>\n",
       "      <td>NaN</td>\n",
       "      <td>6.422</td>\n",
       "    </tr>\n",
       "    <tr>\n",
       "      <th>165</th>\n",
       "      <td>Hong Kong S.A.R., China</td>\n",
       "      <td>Southeastern Asia</td>\n",
       "      <td>NaN</td>\n",
       "      <td>NaN</td>\n",
       "      <td>5.472</td>\n",
       "    </tr>\n",
       "  </tbody>\n",
       "</table>\n",
       "<p>166 rows × 5 columns</p>\n",
       "</div>"
      ],
      "text/plain": [
       "                      Country              Region  Happiness_Score_2015  \\\n",
       "0                 Switzerland      Western Europe                 7.587   \n",
       "1                     Iceland      Western Europe                 7.561   \n",
       "2                     Denmark      Western Europe                 7.527   \n",
       "3                      Norway      Western Europe                 7.522   \n",
       "4                      Canada       North America                 7.427   \n",
       "..                        ...                 ...                   ...   \n",
       "161         Somaliland Region  Sub-Saharan Africa                   NaN   \n",
       "162                   Namibia  Sub-Saharan Africa                   NaN   \n",
       "163               South Sudan  Sub-Saharan Africa                   NaN   \n",
       "164  Taiwan Province of China        Eastern Asia                   NaN   \n",
       "165   Hong Kong S.A.R., China   Southeastern Asia                   NaN   \n",
       "\n",
       "     Happiness_Score_2016  Happiness_Score_2017  \n",
       "0                   7.509                 7.494  \n",
       "1                   7.501                 7.504  \n",
       "2                   7.526                 7.522  \n",
       "3                   7.498                 7.537  \n",
       "4                   7.404                 7.316  \n",
       "..                    ...                   ...  \n",
       "161                 5.057                   NaN  \n",
       "162                 4.574                 4.574  \n",
       "163                 3.832                 3.591  \n",
       "164                   NaN                 6.422  \n",
       "165                   NaN                 5.472  \n",
       "\n",
       "[166 rows x 5 columns]"
      ]
     },
     "execution_count": 50,
     "metadata": {},
     "output_type": "execute_result"
    }
   ],
   "source": [
    "df_together"
   ]
  },
  {
   "cell_type": "code",
   "execution_count": 51,
   "id": "d2138575-66d3-4788-b044-ff22e6faf08c",
   "metadata": {},
   "outputs": [
    {
     "data": {
      "text/plain": [
       "Country                  0\n",
       "Region                   0\n",
       "Happiness_Score_2015     8\n",
       "Happiness_Score_2016     9\n",
       "Happiness_Score_2017    11\n",
       "dtype: int64"
      ]
     },
     "execution_count": 51,
     "metadata": {},
     "output_type": "execute_result"
    }
   ],
   "source": [
    "df_together.isnull().sum()"
   ]
  },
  {
   "cell_type": "code",
   "execution_count": 52,
   "id": "665c32f6-6e16-4b94-b76e-f99c6b6117a0",
   "metadata": {},
   "outputs": [],
   "source": [
    "df_together = df_together.dropna()"
   ]
  },
  {
   "cell_type": "code",
   "execution_count": 53,
   "id": "3943e2a7-8d29-4c8b-a772-f5ecf4b041d5",
   "metadata": {},
   "outputs": [],
   "source": [
    "x = df_together['Happiness_Score_2015']-df_together[\"Happiness_Score_2017\"].round(3)"
   ]
  },
  {
   "cell_type": "code",
   "execution_count": 54,
   "id": "d651cb98-5475-4149-8ea7-ca373007400d",
   "metadata": {},
   "outputs": [
    {
     "name": "stderr",
     "output_type": "stream",
     "text": [
      "C:\\Users\\kubil\\AppData\\Local\\Temp\\ipykernel_20104\\1495281604.py:1: SettingWithCopyWarning: \n",
      "A value is trying to be set on a copy of a slice from a DataFrame.\n",
      "Try using .loc[row_indexer,col_indexer] = value instead\n",
      "\n",
      "See the caveats in the documentation: https://pandas.pydata.org/pandas-docs/stable/user_guide/indexing.html#returning-a-view-versus-a-copy\n",
      "  df_together['Score_Changes'] = x\n"
     ]
    }
   ],
   "source": [
    "df_together['Score_Changes'] = x"
   ]
  },
  {
   "cell_type": "code",
   "execution_count": 55,
   "id": "55fe451b-6f67-4240-9cb1-dda2458e2614",
   "metadata": {},
   "outputs": [
    {
     "data": {
      "text/html": [
       "<div>\n",
       "<style scoped>\n",
       "    .dataframe tbody tr th:only-of-type {\n",
       "        vertical-align: middle;\n",
       "    }\n",
       "\n",
       "    .dataframe tbody tr th {\n",
       "        vertical-align: top;\n",
       "    }\n",
       "\n",
       "    .dataframe thead th {\n",
       "        text-align: right;\n",
       "    }\n",
       "</style>\n",
       "<table border=\"1\" class=\"dataframe\">\n",
       "  <thead>\n",
       "    <tr style=\"text-align: right;\">\n",
       "      <th></th>\n",
       "      <th>Country</th>\n",
       "      <th>Region</th>\n",
       "      <th>Happiness_Score_2015</th>\n",
       "      <th>Happiness_Score_2016</th>\n",
       "      <th>Happiness_Score_2017</th>\n",
       "      <th>Score_Changes</th>\n",
       "    </tr>\n",
       "  </thead>\n",
       "  <tbody>\n",
       "    <tr>\n",
       "      <th>0</th>\n",
       "      <td>Switzerland</td>\n",
       "      <td>Western Europe</td>\n",
       "      <td>7.587</td>\n",
       "      <td>7.509</td>\n",
       "      <td>7.494</td>\n",
       "      <td>0.093</td>\n",
       "    </tr>\n",
       "    <tr>\n",
       "      <th>1</th>\n",
       "      <td>Iceland</td>\n",
       "      <td>Western Europe</td>\n",
       "      <td>7.561</td>\n",
       "      <td>7.501</td>\n",
       "      <td>7.504</td>\n",
       "      <td>0.057</td>\n",
       "    </tr>\n",
       "    <tr>\n",
       "      <th>2</th>\n",
       "      <td>Denmark</td>\n",
       "      <td>Western Europe</td>\n",
       "      <td>7.527</td>\n",
       "      <td>7.526</td>\n",
       "      <td>7.522</td>\n",
       "      <td>0.005</td>\n",
       "    </tr>\n",
       "    <tr>\n",
       "      <th>3</th>\n",
       "      <td>Norway</td>\n",
       "      <td>Western Europe</td>\n",
       "      <td>7.522</td>\n",
       "      <td>7.498</td>\n",
       "      <td>7.537</td>\n",
       "      <td>-0.015</td>\n",
       "    </tr>\n",
       "    <tr>\n",
       "      <th>4</th>\n",
       "      <td>Canada</td>\n",
       "      <td>North America</td>\n",
       "      <td>7.427</td>\n",
       "      <td>7.404</td>\n",
       "      <td>7.316</td>\n",
       "      <td>0.111</td>\n",
       "    </tr>\n",
       "  </tbody>\n",
       "</table>\n",
       "</div>"
      ],
      "text/plain": [
       "       Country          Region  Happiness_Score_2015  Happiness_Score_2016  \\\n",
       "0  Switzerland  Western Europe                 7.587                 7.509   \n",
       "1      Iceland  Western Europe                 7.561                 7.501   \n",
       "2      Denmark  Western Europe                 7.527                 7.526   \n",
       "3       Norway  Western Europe                 7.522                 7.498   \n",
       "4       Canada   North America                 7.427                 7.404   \n",
       "\n",
       "   Happiness_Score_2017  Score_Changes  \n",
       "0                 7.494          0.093  \n",
       "1                 7.504          0.057  \n",
       "2                 7.522          0.005  \n",
       "3                 7.537         -0.015  \n",
       "4                 7.316          0.111  "
      ]
     },
     "execution_count": 55,
     "metadata": {},
     "output_type": "execute_result"
    }
   ],
   "source": [
    "df_together.head()"
   ]
  },
  {
   "cell_type": "code",
   "execution_count": 56,
   "id": "202a0d04-8b92-46df-adac-023279b7ab0b",
   "metadata": {},
   "outputs": [],
   "source": [
    "df_together = df_together.sort_values(by = ['Score_Changes'], ascending = [False])"
   ]
  },
  {
   "cell_type": "code",
   "execution_count": 57,
   "id": "a70a5f32-d668-4d28-b281-ca3e416ec2d9",
   "metadata": {},
   "outputs": [
    {
     "data": {
      "text/html": [
       "<div>\n",
       "<style scoped>\n",
       "    .dataframe tbody tr th:only-of-type {\n",
       "        vertical-align: middle;\n",
       "    }\n",
       "\n",
       "    .dataframe tbody tr th {\n",
       "        vertical-align: top;\n",
       "    }\n",
       "\n",
       "    .dataframe thead th {\n",
       "        text-align: right;\n",
       "    }\n",
       "</style>\n",
       "<table border=\"1\" class=\"dataframe\">\n",
       "  <thead>\n",
       "    <tr style=\"text-align: right;\">\n",
       "      <th></th>\n",
       "      <th>Country</th>\n",
       "      <th>Region</th>\n",
       "      <th>Happiness_Score_2015</th>\n",
       "      <th>Happiness_Score_2016</th>\n",
       "      <th>Happiness_Score_2017</th>\n",
       "      <th>Score_Changes</th>\n",
       "    </tr>\n",
       "  </thead>\n",
       "  <tbody>\n",
       "    <tr>\n",
       "      <th>22</th>\n",
       "      <td>Venezuela</td>\n",
       "      <td>Latin America and Caribbean</td>\n",
       "      <td>6.810</td>\n",
       "      <td>6.084</td>\n",
       "      <td>5.250</td>\n",
       "      <td>1.560</td>\n",
       "    </tr>\n",
       "    <tr>\n",
       "      <th>115</th>\n",
       "      <td>Liberia</td>\n",
       "      <td>Sub-Saharan Africa</td>\n",
       "      <td>4.571</td>\n",
       "      <td>3.622</td>\n",
       "      <td>3.533</td>\n",
       "      <td>1.038</td>\n",
       "    </tr>\n",
       "    <tr>\n",
       "      <th>118</th>\n",
       "      <td>Haiti</td>\n",
       "      <td>Latin America and Caribbean</td>\n",
       "      <td>4.518</td>\n",
       "      <td>4.028</td>\n",
       "      <td>3.603</td>\n",
       "      <td>0.915</td>\n",
       "    </tr>\n",
       "    <tr>\n",
       "      <th>114</th>\n",
       "      <td>Zimbabwe</td>\n",
       "      <td>Sub-Saharan Africa</td>\n",
       "      <td>4.610</td>\n",
       "      <td>4.193</td>\n",
       "      <td>3.875</td>\n",
       "      <td>0.735</td>\n",
       "    </tr>\n",
       "    <tr>\n",
       "      <th>84</th>\n",
       "      <td>Zambia</td>\n",
       "      <td>Sub-Saharan Africa</td>\n",
       "      <td>5.129</td>\n",
       "      <td>4.795</td>\n",
       "      <td>4.514</td>\n",
       "      <td>0.615</td>\n",
       "    </tr>\n",
       "  </tbody>\n",
       "</table>\n",
       "</div>"
      ],
      "text/plain": [
       "       Country                       Region  Happiness_Score_2015  \\\n",
       "22   Venezuela  Latin America and Caribbean                 6.810   \n",
       "115    Liberia           Sub-Saharan Africa                 4.571   \n",
       "118      Haiti  Latin America and Caribbean                 4.518   \n",
       "114   Zimbabwe           Sub-Saharan Africa                 4.610   \n",
       "84      Zambia           Sub-Saharan Africa                 5.129   \n",
       "\n",
       "     Happiness_Score_2016  Happiness_Score_2017  Score_Changes  \n",
       "22                  6.084                 5.250          1.560  \n",
       "115                 3.622                 3.533          1.038  \n",
       "118                 4.028                 3.603          0.915  \n",
       "114                 4.193                 3.875          0.735  \n",
       "84                  4.795                 4.514          0.615  "
      ]
     },
     "execution_count": 57,
     "metadata": {},
     "output_type": "execute_result"
    }
   ],
   "source": [
    "df_together.head(5)"
   ]
  },
  {
   "cell_type": "markdown",
   "id": "01b07933-3738-445c-a43c-5a7a75bbbdb1",
   "metadata": {},
   "source": [
    "### Mutluluğu En Çok Azalmış ve Artmış Ülkeler"
   ]
  },
  {
   "cell_type": "code",
   "execution_count": 59,
   "id": "0efdceb8-73b0-4c1f-96f2-5bbfb95f147a",
   "metadata": {},
   "outputs": [
    {
     "data": {
      "image/png": "[encoded data removed]",
      "text/plain": [
       "<Figure size 640x480 with 1 Axes>"
      ]
     },
     "metadata": {},
     "output_type": "display_data"
    }
   ],
   "source": [
    "sns.barplot(y = df_together[\"Country\"][:8], x = df_together[\"Score_Changes\"][:8],palette = \"mako\")\n",
    "plt.title('Mutluluğu En Çok Azalan 8 Ülke')\n",
    "plt.show()"
   ]
  },
  {
   "cell_type": "code",
   "execution_count": 60,
   "id": "85999d24-4658-49e6-bf2d-993aa892ae9d",
   "metadata": {},
   "outputs": [
    {
     "data": {
      "image/png": "[encoded data removed]",
      "text/plain": [
       "<Figure size 640x480 with 1 Axes>"
      ]
     },
     "metadata": {},
     "output_type": "display_data"
    }
   ],
   "source": [
    "sns.barplot(y = df_together[\"Country\"][-8:], x = df_together[\"Score_Changes\"][-8:],palette=\"rainbow\")\n",
    "plt.title('Mutluluğu En Çok Artan 8 Ülke')\n",
    "plt.show()"
   ]
  },
  {
   "cell_type": "code",
   "execution_count": null,
   "id": "dde8f622-db7f-418f-9e70-0c5e1f4d31c4",
   "metadata": {},
   "outputs": [],
   "source": []
  }
 ],
 "metadata": {
  "kernelspec": {
   "display_name": "Python 3 (ipykernel)",
   "language": "python",
   "name": "python3"
  },
  "language_info": {
   "codemirror_mode": {
    "name": "ipython",
    "version": 3
   },
   "file_extension": ".py",
   "mimetype": "text/x-python",
   "name": "python",
   "nbconvert_exporter": "python",
   "pygments_lexer": "ipython3",
   "version": "3.11.0"
  }
 },
 "nbformat": 4,
 "nbformat_minor": 5
}
